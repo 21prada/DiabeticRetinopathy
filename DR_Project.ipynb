{
 "cells": [
  {
   "cell_type": "markdown",
   "id": "af4daf36",
   "metadata": {},
   "source": [
    "## Name: Sriprada Sriram"
   ]
  },
  {
   "cell_type": "code",
   "execution_count": 1,
   "id": "907f1a93",
   "metadata": {},
   "outputs": [],
   "source": [
    "import tensorflow as tf\n",
    "import sys\n",
    "import os.path\n",
    "import numpy as np\n",
    "import pandas as pd\n",
    "import matplotlib.pyplot as plt\n",
    "import matplotlib.cm as cm\n",
    "from time import perf_counter\n",
    "from pathlib import Path\n",
    "from IPython.display import Image, display, Markdown\n",
    "\n",
    "from sklearn.metrics import classification_report\n",
    "\n",
    "from sklearn.model_selection import train_test_split\n",
    "from sklearn.metrics import confusion_matrix\n",
    "\n",
    "import seaborn as sns"
   ]
  },
  {
   "cell_type": "code",
   "execution_count": null,
   "id": "1b480b28",
   "metadata": {},
   "outputs": [],
   "source": [
    "def printmd(string):\n",
    "    display(Markdown(string))\n",
    "imageDir = Path(r\"C:\\Users\\21pra\\Downloads\\DR kaggle\\g_filtered_images\\gaussian_filtered_images\\gaussian_filtered_images\")\n",
    "filepaths = list(imageDir.glob(r'**/*.png'))\n",
    "labels = list(map(lambda x: os.path.split(os.path.split(x)[0])[1], filepaths))"
   ]
  },
  {
   "cell_type": "code",
   "execution_count": null,
   "id": "05ecbd96",
   "metadata": {},
   "outputs": [],
   "source": [
    "filepaths = pd.Series(filepaths, name='Filepath').astype(str)\n",
    "labels = pd.Series(labels, name='Label')\n",
    "\n",
    "image_df = pd.concat([filepaths, labels], axis=1)\n",
    "image_df = image_df.sample(frac=1).reset_index(drop = True)\n",
    "\n",
    "image_df"
   ]
  },
  {
   "cell_type": "markdown",
   "id": "03e10953",
   "metadata": {},
   "source": [
    "## Visualisation"
   ]
  },
  {
   "cell_type": "code",
   "execution_count": null,
   "id": "6e49f7d6",
   "metadata": {},
   "outputs": [],
   "source": [
    "fig, axes = plt.subplots(nrows=3, ncols=4, figsize=(15, 10), subplot_kw={'xticks': [], 'yticks': []})\n",
    "\n",
    "for i, ax in enumerate(axes.flat):\n",
    "    ax.imshow(plt.imread(image_df.Filepath[i]))\n",
    "    ax.set_title(image_df.Label[i])\n",
    "\n",
    "plt.tight_layout()\n",
    "plt.show()"
   ]
  },
  {
   "cell_type": "code",
   "execution_count": null,
   "id": "9a75960d",
   "metadata": {},
   "outputs": [],
   "source": [
    "vc = image_df['Label'].value_counts()\n",
    "plt.figure(figsize=(10, 5))\n",
    "sns.barplot(x=vc.index, y=vc, palette=\"rocket\")\n",
    "plt.title(\"No. of pictures in each category\", fontsize=15)\n",
    "plt.show()"
   ]
  },
  {
   "cell_type": "markdown",
   "id": "b28ee5df",
   "metadata": {},
   "source": [
    "## Loading Images using the Image Generator"
   ]
  },
  {
   "cell_type": "code",
   "execution_count": null,
   "id": "7f08d52f",
   "metadata": {},
   "outputs": [],
   "source": [
    "def createGen():\n",
    "    trainGen = tf.keras.preprocessing.image.ImageDataGenerator(\n",
    "        preprocessing_function=tf.keras.applications.mobilenet_v2.preprocess_input,\n",
    "        validation_split=0.1\n",
    "    )\n",
    "\n",
    "    testGen = tf.keras.preprocessing.image.ImageDataGenerator(\n",
    "        preprocessing_function=tf.keras.applications.mobilenet_v2.preprocess_input\n",
    "    )\n",
    "\n",
    "    trainImages = trainGen.flow_from_dataframe(\n",
    "        dataframe=train_df,\n",
    "        x_col='Filepath',\n",
    "        y_col='Label',\n",
    "        target_size=(224, 224),\n",
    "        color_mode='rgb',\n",
    "        class_mode='categorical',\n",
    "        batch_size=32,\n",
    "        shuffle=True,\n",
    "        seed=0,\n",
    "        subset='training',\n",
    "        rotation_range=30,\n",
    "        zoom_range=0.15,\n",
    "        width_shift_range=0.2,\n",
    "        height_shift_range=0.2,\n",
    "        shear_range=0.15,\n",
    "        horizontal_flip=True,\n",
    "        fill_mode=\"nearest\"\n",
    "    )\n",
    "\n",
    "    valImages = trainGen.flow_from_dataframe(\n",
    "        dataframe=train_df,\n",
    "        x_col='Filepath',\n",
    "        y_col='Label',\n",
    "        target_size=(224, 224),\n",
    "        color_mode='rgb',\n",
    "        class_mode='categorical',\n",
    "        batch_size=32,\n",
    "        shuffle=True,\n",
    "        seed=0,\n",
    "        subset='validation',\n",
    "        rotation_range=30,\n",
    "        zoom_range=0.15,\n",
    "        width_shift_range=0.2,\n",
    "        height_shift_range=0.2,\n",
    "        shear_range=0.15,\n",
    "        horizontal_flip=True,\n",
    "        fill_mode=\"nearest\"\n",
    "    )\n",
    "\n",
    "    testImages = testGen.flow_from_dataframe(\n",
    "        dataframe=test_df,\n",
    "        x_col='Filepath',\n",
    "        y_col='Label',\n",
    "        target_size=(224, 224),\n",
    "        color_mode='rgb',\n",
    "        class_mode='categorical',\n",
    "        batch_size=32,\n",
    "        shuffle=False\n",
    "    )\n",
    "    \n",
    "    return trainGen, testGen, trainImages, valImages, testImages"
   ]
  },
  {
   "cell_type": "markdown",
   "id": "ba9413fa",
   "metadata": {},
   "source": [
    "## Model Building"
   ]
  },
  {
   "cell_type": "code",
   "execution_count": null,
   "id": "f89d5fa7",
   "metadata": {},
   "outputs": [],
   "source": [
    "def getModel(model):\n",
    "    kwargs = {\n",
    "        'input_shape':(224, 224, 3),\n",
    "        'include_top':False,\n",
    "        'weights':'imagenet',\n",
    "        'pooling':'avg'\n",
    "    }\n",
    "    \n",
    "    pretrained_model = model(**kwargs)\n",
    "    pretrained_model.trainable = False\n",
    "    \n",
    "    inputs = pretrained_model.input\n",
    "\n",
    "    x = tf.keras.layers.Dense(128, activation='relu')(pretrained_model.output)\n",
    "    x = tf.keras.layers.Dense(128, activation='relu')(x)\n",
    "\n",
    "    outputs = tf.keras.layers.Dense(5, activation='softmax')(x)\n",
    "\n",
    "    model = tf.keras.Model(inputs=inputs, outputs=outputs)\n",
    "    model.compile(\n",
    "        optimizer='adam',\n",
    "        loss='categorical_crossentropy',\n",
    "        metrics=['accuracy']\n",
    "    )\n",
    "    \n",
    "    return model"
   ]
  },
  {
   "cell_type": "code",
   "execution_count": null,
   "id": "133864f7",
   "metadata": {},
   "outputs": [],
   "source": [
    "train_df, test_df = train_test_split(image_df, train_size=0.9, shuffle=True, random_state=1)"
   ]
  },
  {
   "cell_type": "code",
   "execution_count": null,
   "id": "5b14ad66",
   "metadata": {},
   "outputs": [],
   "source": [
    "models = {\n",
    "    \"DenseNet121\": {\"model\":tf.keras.applications.DenseNet121, \"perf\":0},\n",
    "    \"ResNet101\": {\"model\":tf.keras.applications.ResNet101, \"perf\":0},\n",
    "}"
   ]
  },
  {
   "cell_type": "code",
   "execution_count": null,
   "id": "873e0f9d",
   "metadata": {},
   "outputs": [],
   "source": [
    "trainGen, testGen, trainImages, valImages, testImages = createGen()\n",
    "\n",
    "for name, model in models.items():\n",
    "    X = getModel(model['model'])\n",
    "    models[name]['model'] = X\n",
    "    \n",
    "    start = perf_counter()\n",
    "    history = X.fit(trainImages, validation_data=valImages, epochs=10)\n",
    "    \n",
    "    duration = round((perf_counter() - start), 2)\n",
    "    models[name]['perf'] = duration\n",
    "    print(f\"{name:20} -> trained in -> {duration} Sec\")\n",
    "    \n",
    "    valAcc = history.history['val_accuracy']\n",
    "    models[name]['val_acc'] = [round(v, 4) for v in valAcc]\n",
    "    \n",
    "    trainAcc = history.history['accuracy']\n",
    "    models[name]['train_accuracy'] = [round(v, 4) for v in trainAcc]"
   ]
  },
  {
   "cell_type": "markdown",
   "id": "7521bb23",
   "metadata": {},
   "source": [
    "## Model Result"
   ]
  },
  {
   "cell_type": "code",
   "execution_count": null,
   "id": "cf513966",
   "metadata": {},
   "outputs": [],
   "source": [
    "modelsResult = []\n",
    "\n",
    "for name, v in models.items():\n",
    "    modelsResult.append(\n",
    "        [\n",
    "            name,\n",
    "            models[name]['train_accuracy'][-1],\n",
    "            models[name]['val_acc'][-1],\n",
    "            models[name]['perf']\n",
    "        ]\n",
    "    )\n",
    "    \n",
    "dfResults = pd.DataFrame(\n",
    "    modelsResult,\n",
    "    columns = [\n",
    "        'Model',\n",
    "        'train_accuracy',\n",
    "        'val_accuracy',\n",
    "        'Training time (sec)'\n",
    "    ]\n",
    ")\n",
    "\n",
    "dfResults.sort_values(by='val_accuracy', ascending=False, inplace=True)\n",
    "dfResults.reset_index(inplace=True, drop=True)\n",
    "dfResults"
   ]
  },
  {
   "cell_type": "markdown",
   "id": "93f335c7",
   "metadata": {},
   "source": [
    "## Bar Graph of Results"
   ]
  },
  {
   "cell_type": "code",
   "execution_count": null,
   "id": "6fddc31d",
   "metadata": {},
   "outputs": [],
   "source": [
    "plt.figure(figsize=(20, 10))\n",
    "plt.title('Accuracy of Training Set for DenseNet121 Vs ResNet101', fontsize=12)\n",
    "sns.barplot(x='Model', y='train_accuracy', data=dfResults)\n",
    "plt.ylim(0, 1)\n",
    "plt.xticks(rotation=90)\n",
    "plt.show()"
   ]
  },
  {
   "cell_type": "code",
   "execution_count": null,
   "id": "ba93588a",
   "metadata": {},
   "outputs": [],
   "source": [
    "plt.figure(figsize=(20, 10))\n",
    "plt.title('Accuracy of Validation Set for DenseNet121 Vs ResNet101', fontsize=12)\n",
    "sns.barplot(x='Model', y='val_accuracy', data=dfResults)\n",
    "plt.ylim(0,1)\n",
    "plt.xticks(rotation=90)\n",
    "plt.show()"
   ]
  },
  {
   "cell_type": "code",
   "execution_count": null,
   "id": "34213927",
   "metadata": {},
   "outputs": [],
   "source": [
    "plt.figure(figsize=(20, 10))\n",
    "sns.barplot(x='Model', y='Training time (sec)', data=dfResults)\n",
    "plt.title('Training time for each model in (Sec)', fontsize=12)\n",
    "plt.xticks(rotation=90)\n",
    "plt.show()"
   ]
  },
  {
   "cell_type": "markdown",
   "id": "c5431762",
   "metadata": {},
   "source": [
    "## MobileNetV2"
   ]
  },
  {
   "cell_type": "code",
   "execution_count": null,
   "id": "cfef0cfb",
   "metadata": {},
   "outputs": [],
   "source": [
    "pretrained_model = tf.keras.applications.MobileNetV2(\n",
    "    input_shape=(224, 224, 3),\n",
    "    include_top=False,\n",
    "    weights='imagenet',\n",
    "    pooling='avg'\n",
    ")\n",
    "pretrained_model.trainable = False\n",
    "\n",
    "inputs = pretrained_model.input\n",
    "\n",
    "x = tf.keras.layers.Dense(128, activation='relu')(pretrained_model.output)\n",
    "x = tf.keras.layers.Dense(128, activation='relu')(x)\n",
    "\n",
    "outputs = tf.keras.layers.Dense(5, activation='softmax')(x)\n",
    "\n",
    "model = tf.keras.Model(inputs=inputs, outputs=outputs)\n",
    "model.compile(\n",
    "    optimizer='adam',\n",
    "    loss='categorical_crossentropy',\n",
    "    metrics=['accuracy']\n",
    ")\n",
    "\n",
    "history = model.fit(\n",
    "    trainImages,\n",
    "    validation_data=valImages,\n",
    "    batch_size = 32,\n",
    "    epochs=10,\n",
    "    callbacks=[\n",
    "        tf.keras.callbacks.EarlyStopping(\n",
    "            monitor='val_loss',\n",
    "            patience=2,\n",
    "            restore_best_weights=True\n",
    "        )\n",
    "    ]\n",
    ")"
   ]
  },
  {
   "cell_type": "markdown",
   "id": "92861233",
   "metadata": {},
   "source": [
    "## Accuracy Graph"
   ]
  },
  {
   "cell_type": "code",
   "execution_count": null,
   "id": "c673c88d",
   "metadata": {},
   "outputs": [],
   "source": [
    "pd.DataFrame(history.history)[['accuracy', 'val_accuracy']].plot()\n",
    "plt.title(\"Accuracy VS val_accuracy\")\n",
    "plt.show()"
   ]
  },
  {
   "cell_type": "code",
   "execution_count": null,
   "id": "5afefd35",
   "metadata": {},
   "outputs": [],
   "source": [
    "pd.DataFrame(history.history)[['loss','val_loss']].plot()\n",
    "plt.title(\"Loss VS val_loss\")\n",
    "plt.show()"
   ]
  },
  {
   "cell_type": "markdown",
   "id": "87dd2da7",
   "metadata": {},
   "source": [
    "## Testing "
   ]
  },
  {
   "cell_type": "code",
   "execution_count": null,
   "id": "c9f3411f",
   "metadata": {},
   "outputs": [],
   "source": [
    "pred = model.predict(testImages)\n",
    "pred = np.argmax(pred,axis=1)\n",
    "\n",
    "labels = (trainImages.class_indices)\n",
    "labels = dict((v, k) for k, v in labels.items())\n",
    "\n",
    "pred = [labels[k] for k in pred]\n",
    "\n",
    "print(f'The first 10 predictions:\\n{pred[:10]}')"
   ]
  },
  {
   "cell_type": "code",
   "execution_count": null,
   "id": "45809092",
   "metadata": {},
   "outputs": [],
   "source": [
    "y_test = list(test_df.Label)\n",
    "print(classification_report(y_test, pred))"
   ]
  },
  {
   "cell_type": "markdown",
   "id": "93b242e1",
   "metadata": {},
   "source": [
    "### Confusion Matrix"
   ]
  },
  {
   "cell_type": "code",
   "execution_count": null,
   "id": "303b229e",
   "metadata": {},
   "outputs": [],
   "source": [
    "cf_matrix = confusion_matrix(y_test, pred, normalize='true')\n",
    "plt.figure(figsize = (15, 10))\n",
    "sns.heatmap(cf_matrix, annot=True, xticklabels = sorted(set(y_test)), yticklabels = sorted(set(y_test)))\n",
    "plt.title('Normalized Confusion Matrix')\n",
    "plt.show()"
   ]
  },
  {
   "cell_type": "markdown",
   "id": "4f1ec3a2",
   "metadata": {},
   "source": [
    "## Predictions"
   ]
  },
  {
   "cell_type": "code",
   "execution_count": null,
   "id": "6cad6624",
   "metadata": {},
   "outputs": [],
   "source": [
    "fig, axes = plt.subplots(\n",
    "    nrows=3, ncols=3,\n",
    "    figsize=(12, 12),\n",
    "    subplot_kw={'xticks':[], 'yticks':[]}\n",
    ")\n",
    "\n",
    "for i, ax in enumerate(axes.flat):\n",
    "    ax.imshow(plt.imread(test_df.Filepath.iloc[i]))\n",
    "    ax.set_title(f'True: {test_df.Label.iloc[i]}\\nPredicted: {pred[i]}')\n",
    "\n",
    "plt.tight_layout()\n",
    "plt.show()"
   ]
  },
  {
   "cell_type": "markdown",
   "id": "a120da72",
   "metadata": {},
   "source": [
    "## Grad-CAM Visualisation"
   ]
  },
  {
   "cell_type": "code",
   "execution_count": null,
   "id": "3934d3dc",
   "metadata": {},
   "outputs": [],
   "source": [
    "def get_img_array(img_path, size):\n",
    "    img = tf.keras.preprocessing.image.load_img(img_path, target_size=size)\n",
    "    array = tf.keras.preprocessing.image.img_to_array(img)\n",
    "    array = np.expand_dims(array, axis=0)\n",
    "    return array\n",
    "def make_gradcam_heatmap(img_array, model, last_conv_layer_name, pred_index=None):\n",
    "    grad_model = tf.keras.models.Model([model.inputs], [model.get_layer(last_conv_layer_name).output, model.output])\n",
    "    \n",
    "    with tf.GradientTape() as tape:\n",
    "        last_conv_layer_output, preds = grad_model(img_array)\n",
    "        if pred_index is None: pred_index = tf.argmax(preds[0])\n",
    "        class_channel = preds[:, pred_index]\n",
    "    \n",
    "    grads = tape.gradient(class_channel, last_conv_layer_output)\n",
    "    pooled_grads = tf.reduce_mean(grads, axis=(0, 1, 2))\n",
    "    \n",
    "    last_conv_layer_output = last_conv_layer_output[0]\n",
    "    \n",
    "    heatmap = last_conv_layer_output @ pooled_grads[..., tf.newaxis]\n",
    "    heatmap = tf.squeeze(heatmap)\n",
    "    heatmap = tf.maximum(heatmap, 0) / tf.math.reduce_max(heatmap)\n",
    "    return heatmap.numpy()"
   ]
  },
  {
   "cell_type": "code",
   "execution_count": null,
   "id": "29617793",
   "metadata": {},
   "outputs": [],
   "source": [
    "def make_gradcam_heatmap(img_array, model, last_conv_layer_name, pred_index=None):\n",
    "    grad_model = tf.keras.models.Model([model.inputs], [model.get_layer(last_conv_layer_name).output, model.output])\n",
    "    \n",
    "    with tf.GradientTape() as tape:\n",
    "        last_conv_layer_output, preds = grad_model(img_array)\n",
    "        if pred_index is None: pred_index = tf.argmax(preds[0])\n",
    "        class_channel = preds[:, pred_index]\n",
    "    \n",
    "    grads = tape.gradient(class_channel, last_conv_layer_output)\n",
    "    pooled_grads = tf.reduce_mean(grads, axis=(0, 1, 2))\n",
    "    \n",
    "    last_conv_layer_output = last_conv_layer_output[0]\n",
    "    \n",
    "    heatmap = last_conv_layer_output @ pooled_grads[..., tf.newaxis]\n",
    "    heatmap = tf.squeeze(heatmap)\n",
    "    heatmap = tf.maximum(heatmap, 0) / tf.math.reduce_max(heatmap)\n",
    "    return heatmap.numpy()"
   ]
  },
  {
   "cell_type": "code",
   "execution_count": null,
   "id": "d146a2af",
   "metadata": {},
   "outputs": [],
   "source": [
    "preprocess_input = tf.keras.applications.mobilenet_v2.preprocess_input\n",
    "decode_predictions = tf.keras.applications.mobilenet_v2.decode_predictions\n",
    "\n",
    "last_conv_layer_name = \"Conv_1\"\n",
    "img_size = (224, 224)\n",
    "\n",
    "model.layers[-1].activation = None\n",
    "preprocess_input = tf.keras.applications.mobilenet_v2.preprocess_input\n",
    "decode_predictions = tf.keras.applications.mobilenet_v2.decode_predictions\n",
    "\n",
    "last_conv_layer_name = \"Conv_1\"\n",
    "img_size = (224, 224)\n",
    "\n",
    "model.layers[-1].activation = None"
   ]
  },
  {
   "cell_type": "markdown",
   "id": "d22ce045",
   "metadata": {},
   "source": [
    "## EfficientNet"
   ]
  },
  {
   "cell_type": "code",
   "execution_count": null,
   "id": "b6c19f08",
   "metadata": {},
   "outputs": [],
   "source": [
    "import tensorflow.keras.backend as K\n",
    "import tensorflow.keras.layers as KL\n",
    "from tensorflow.keras.utils import get_custom_objects\n",
    "import efficientnet.tfkeras as efn"
   ]
  },
  {
   "cell_type": "markdown",
   "id": "a752fc58",
   "metadata": {},
   "source": [
    "## Learning Rate Scheduler"
   ]
  },
  {
   "cell_type": "code",
   "execution_count": null,
   "id": "9f7d9e05",
   "metadata": {},
   "outputs": [],
   "source": [
    "def lr_rate(epoch,lr):\n",
    "    if epoch<10:\n",
    "        lr=0.0001\n",
    "        return lr\n",
    "    elif epoch<=15:\n",
    "        lr=0.0005\n",
    "        return lr\n",
    "    elif epoch<=30:\n",
    "        lr=0.0001\n",
    "        return lr\n",
    "    else:\n",
    "        lr=lr*(epoch/(1+epoch))\n",
    "        return lr\n",
    "lr_callback=tf.keras.callbacks.LearningRateScheduler(lr_rate)"
   ]
  },
  {
   "cell_type": "code",
   "execution_count": null,
   "id": "1bf48b21",
   "metadata": {},
   "outputs": [],
   "source": [
    "model = tf.keras.Sequential([\n",
    "        efn.EfficientNetB0(\n",
    "            input_shape=(224,224, 3),\n",
    "            weights='imagenet',\n",
    "            include_top=False\n",
    "        ),tf.keras.layers.Flatten(),tf.keras.layers.Dense(5, activation='softmax')\n",
    "    ])\n",
    "    \n",
    "model.compile(optimizer=\"Adam\",loss='categorical_crossentropy',metrics=['acc'])\n",
    "history=model.fit_generator(trainImages,valImages = valImages,callbacks=[lr_callback],epochs=40,verbose=1)"
   ]
  },
  {
   "cell_type": "markdown",
   "id": "f73d2eda",
   "metadata": {},
   "source": [
    "## Training Curves"
   ]
  },
  {
   "cell_type": "code",
   "execution_count": null,
   "id": "b94685c0",
   "metadata": {},
   "outputs": [],
   "source": [
    "import matplotlib.pyplot as plt\n",
    "display_training_curves(\n",
    "    history.history['loss'], \n",
    "    history.history['val_loss'], \n",
    "    'loss', 211)\n",
    "display_training_curves(\n",
    "    history.history['acc'], \n",
    "    history.history['val_acc'], \n",
    "    'accuracy', 212)"
   ]
  },
  {
   "cell_type": "markdown",
   "id": "8f3a34cf",
   "metadata": {},
   "source": [
    "## Testing"
   ]
  },
  {
   "cell_type": "code",
   "execution_count": null,
   "id": "e5406d08",
   "metadata": {},
   "outputs": [],
   "source": [
    "pred = model.predict(testImages)\n",
    "pred = np.argmax(pred,axis=1)\n",
    "\n",
    "labels = (trainImages.class_indices)\n",
    "labels = dict((v, k) for k, v in labels.items())\n",
    "\n",
    "pred = [labels[k] for k in pred]\n",
    "\n",
    "print(f'The first 20 predictions:\\n{pred[:20]}')"
   ]
  },
  {
   "cell_type": "code",
   "execution_count": null,
   "id": "445d1505",
   "metadata": {},
   "outputs": [],
   "source": [
    "y_test = list(test_df.Label)\n",
    "print(classification_report(y_test, pred))"
   ]
  }
 ],
 "metadata": {
  "kernelspec": {
   "display_name": "Python 3 (ipykernel)",
   "language": "python",
   "name": "python3"
  },
  "language_info": {
   "codemirror_mode": {
    "name": "ipython",
    "version": 3
   },
   "file_extension": ".py",
   "mimetype": "text/x-python",
   "name": "python",
   "nbconvert_exporter": "python",
   "pygments_lexer": "ipython3",
   "version": "3.9.12"
  }
 },
 "nbformat": 4,
 "nbformat_minor": 5
}
